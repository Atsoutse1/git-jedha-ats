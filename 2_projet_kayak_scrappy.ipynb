{
 "cells": [
  {
   "cell_type": "raw",
   "metadata": {},
   "source": [
    "Groupe:\n",
    "Atsoutse Tossou\n",
    "Nicolas Gonfalone\n",
    "Ugo Rabenjamina"
   ]
  },
  {
   "cell_type": "markdown",
   "metadata": {},
   "source": [
    "# II. PARTIE WEBSCRAPPING"
   ]
  },
  {
   "cell_type": "code",
   "execution_count": 1,
   "metadata": {},
   "outputs": [
    {
     "name": "stdout",
     "output_type": "stream",
     "text": [
      "Requirement already satisfied: Scrapy in /opt/conda/lib/python3.8/site-packages (2.4.1)\n",
      "Requirement already satisfied: cssselect>=0.9.1 in /opt/conda/lib/python3.8/site-packages (from Scrapy) (1.1.0)\n",
      "Requirement already satisfied: itemadapter>=0.1.0 in /opt/conda/lib/python3.8/site-packages (from Scrapy) (0.2.0)\n",
      "Requirement already satisfied: PyDispatcher>=2.0.5 in /opt/conda/lib/python3.8/site-packages (from Scrapy) (2.0.5)\n",
      "Requirement already satisfied: Twisted>=17.9.0 in /opt/conda/lib/python3.8/site-packages (from Scrapy) (20.3.0)\n",
      "Requirement already satisfied: itemloaders>=1.0.1 in /opt/conda/lib/python3.8/site-packages (from Scrapy) (1.0.4)\n",
      "Requirement already satisfied: w3lib>=1.17.0 in /opt/conda/lib/python3.8/site-packages (from Scrapy) (1.22.0)\n",
      "Requirement already satisfied: queuelib>=1.4.2 in /opt/conda/lib/python3.8/site-packages (from Scrapy) (1.5.0)\n",
      "Requirement already satisfied: service-identity>=16.0.0 in /opt/conda/lib/python3.8/site-packages (from Scrapy) (18.1.0)\n",
      "Requirement already satisfied: protego>=0.1.15 in /opt/conda/lib/python3.8/site-packages (from Scrapy) (0.1.16)\n",
      "Requirement already satisfied: parsel>=1.5.0 in /opt/conda/lib/python3.8/site-packages (from Scrapy) (1.6.0)\n",
      "Requirement already satisfied: zope.interface>=4.1.3 in /opt/conda/lib/python3.8/site-packages (from Scrapy) (5.2.0)\n",
      "Requirement already satisfied: lxml>=3.5.0; platform_python_implementation == \"CPython\" in /opt/conda/lib/python3.8/site-packages (from Scrapy) (4.6.2)\n",
      "Requirement already satisfied: pyOpenSSL>=16.2.0 in /opt/conda/lib/python3.8/site-packages (from Scrapy) (19.1.0)\n",
      "Requirement already satisfied: cryptography>=2.0 in /opt/conda/lib/python3.8/site-packages (from Scrapy) (3.1.1)\n",
      "Requirement already satisfied: incremental>=16.10.1 in /opt/conda/lib/python3.8/site-packages (from Twisted>=17.9.0->Scrapy) (17.5.0)\n",
      "Requirement already satisfied: Automat>=0.3.0 in /opt/conda/lib/python3.8/site-packages (from Twisted>=17.9.0->Scrapy) (20.2.0)\n",
      "Requirement already satisfied: hyperlink>=17.1.1 in /opt/conda/lib/python3.8/site-packages (from Twisted>=17.9.0->Scrapy) (21.0.0)\n",
      "Requirement already satisfied: constantly>=15.1 in /opt/conda/lib/python3.8/site-packages (from Twisted>=17.9.0->Scrapy) (15.1.0)\n",
      "Requirement already satisfied: attrs>=19.2.0 in /opt/conda/lib/python3.8/site-packages (from Twisted>=17.9.0->Scrapy) (20.2.0)\n",
      "Requirement already satisfied: PyHamcrest!=1.10.0,>=1.9.0 in /opt/conda/lib/python3.8/site-packages (from Twisted>=17.9.0->Scrapy) (2.0.2)\n",
      "Requirement already satisfied: jmespath>=0.9.5 in /opt/conda/lib/python3.8/site-packages (from itemloaders>=1.0.1->Scrapy) (0.10.0)\n",
      "Requirement already satisfied: six>=1.4.1 in /opt/conda/lib/python3.8/site-packages (from w3lib>=1.17.0->Scrapy) (1.15.0)\n",
      "Requirement already satisfied: pyasn1-modules in /opt/conda/lib/python3.8/site-packages (from service-identity>=16.0.0->Scrapy) (0.2.8)\n",
      "Requirement already satisfied: pyasn1 in /opt/conda/lib/python3.8/site-packages (from service-identity>=16.0.0->Scrapy) (0.4.8)\n",
      "Requirement already satisfied: setuptools in /opt/conda/lib/python3.8/site-packages (from zope.interface>=4.1.3->Scrapy) (49.6.0.post20201009)\n",
      "Requirement already satisfied: cffi!=1.11.3,>=1.8 in /opt/conda/lib/python3.8/site-packages (from cryptography>=2.0->Scrapy) (1.14.3)\n",
      "Requirement already satisfied: idna>=2.5 in /opt/conda/lib/python3.8/site-packages (from hyperlink>=17.1.1->Twisted>=17.9.0->Scrapy) (2.10)\n",
      "Requirement already satisfied: pycparser in /opt/conda/lib/python3.8/site-packages (from cffi!=1.11.3,>=1.8->cryptography>=2.0->Scrapy) (2.20)\n"
     ]
    }
   ],
   "source": [
    "!pip install Scrapy\n",
    "\n",
    "# Import os => Library used to easily manipulate operating systems\n",
    "## More info => https://docs.python.org/3/library/os.html\n",
    "import os \n",
    "\n",
    "# Import logging => Library used for logs manipulation \n",
    "## More info => https://docs.python.org/3/library/logging.html\n",
    "import logging\n",
    "\n",
    "# Import scrapy and scrapy.crawler \n",
    "import scrapy\n",
    "from scrapy.crawler import CrawlerProcess"
   ]
  },
  {
   "cell_type": "markdown",
   "metadata": {},
   "source": [
    "## Le scrapping sera fait sur 8 villes sélectionnées selon les plus hautes températures et la prévision : les 3 plus hautes températures par prévision"
   ]
  },
  {
   "cell_type": "markdown",
   "metadata": {},
   "source": [
    "NOTE BUG pour la cellule suivante : scrapper booking.com par ville\n",
    "\n",
    "1. Tentative de faire une boucle pour faire le scrapping de toutes les villes en une fois mais ça s'arrête au bout de 2 villes avec l'erreur \"reactor not restartable\"\\\n",
    "Résultat : le scrapping a été fait ville par ville\n",
    "\n",
    "2. Problème sur le sélecteur des scores : \"valeur nulle\""
   ]
  },
  {
   "cell_type": "markdown",
   "metadata": {},
   "source": [
    "# II.a Scrapping via Srapy"
   ]
  },
  {
   "cell_type": "code",
   "execution_count": 2,
   "metadata": {},
   "outputs": [],
   "source": [
    "ville = 'Paris'"
   ]
  },
  {
   "cell_type": "code",
   "execution_count": 3,
   "metadata": {},
   "outputs": [],
   "source": [
    "class Hotel(scrapy.Spider):\n",
    "\n",
    "    # Name of your spider\n",
    "    name = \"info_hotel\"\n",
    "\n",
    "    # Starting URL\n",
    "    start_urls = ['https://www.booking.com/index.fr.html']\n",
    "\n",
    "    # Parse function for login\n",
    "    def parse(self, response):\n",
    "        # FormRequest used to login\n",
    "        return scrapy.FormRequest.from_response(\n",
    "            response,\n",
    "            formdata={'ss': ville},\n",
    "            callback=self.after_search\n",
    "        )\n",
    "    \n",
    "      # Callback used after login\n",
    "    \n",
    "    def after_search(self, response):\n",
    "\n",
    "        for info in response.css('.sr_item'): \n",
    "            yield {\n",
    "                'name': info.css('.sr-hotel__name::text').get(),\n",
    "                'url': \"https://www.booking.com\" + info.css('.hotel_name_link').attrib[\"href\"],\n",
    "                'coords': info.css('.sr_card_address_line a').attrib[\"data-coords\"],\n",
    "                'score': info.css('review-score-badge::text').get(),\n",
    "                'description': info.css('.hotel_desc::text').get()            \n",
    "            }\n",
    "\n",
    "        # Select the NEXT button and store it in next_page\n",
    "        try:\n",
    "            next_page = response.css('a.paging-next').attrib[\"href\"]\n",
    "        except KeyError:\n",
    "            # In the last page, there won't be any \"href\" and a KeyError will be raised\n",
    "            logging.info('No next page. Terminating crawling process.')\n",
    "        else:\n",
    "            # If a next page is found, execute the parse method once again\n",
    "            yield response.follow(next_page, callback=self.after_search)"
   ]
  },
  {
   "cell_type": "markdown",
   "metadata": {},
   "source": [
    "# II.b Sauvegarde des informations hotel pour les villes selectionnées"
   ]
  },
  {
   "cell_type": "code",
   "execution_count": 4,
   "metadata": {},
   "outputs": [
    {
     "name": "stderr",
     "output_type": "stream",
     "text": [
      "2021-01-17 22:47:11 [scrapy.utils.log] INFO: Scrapy 2.4.1 started (bot: scrapybot)\n",
      "2021-01-17 22:47:11 [scrapy.utils.log] INFO: Versions: lxml 4.6.2.0, libxml2 2.9.10, cssselect 1.1.0, parsel 1.6.0, w3lib 1.22.0, Twisted 20.3.0, Python 3.8.6 | packaged by conda-forge | (default, Oct  7 2020, 19:08:05) - [GCC 7.5.0], pyOpenSSL 19.1.0 (OpenSSL 1.1.1h  22 Sep 2020), cryptography 3.1.1, Platform Linux-4.19.112+-x86_64-with-glibc2.10\n",
      "2021-01-17 22:47:11 [scrapy.crawler] INFO: Overridden settings:\n",
      "{'LOG_LEVEL': 20,\n",
      " 'USER_AGENT': 'Chrome/84.0 (compatible; MSIE 7.0; Windows NT 5.1)'}\n",
      "2021-01-17 22:47:11 [scrapy.extensions.telnet] INFO: Telnet Password: 72ea3f9c8742c88e\n",
      "2021-01-17 22:47:11 [scrapy.middleware] INFO: Enabled extensions:\n",
      "['scrapy.extensions.corestats.CoreStats',\n",
      " 'scrapy.extensions.telnet.TelnetConsole',\n",
      " 'scrapy.extensions.memusage.MemoryUsage',\n",
      " 'scrapy.extensions.feedexport.FeedExporter',\n",
      " 'scrapy.extensions.logstats.LogStats']\n",
      "2021-01-17 22:47:11 [scrapy.middleware] INFO: Enabled downloader middlewares:\n",
      "['scrapy.downloadermiddlewares.httpauth.HttpAuthMiddleware',\n",
      " 'scrapy.downloadermiddlewares.downloadtimeout.DownloadTimeoutMiddleware',\n",
      " 'scrapy.downloadermiddlewares.defaultheaders.DefaultHeadersMiddleware',\n",
      " 'scrapy.downloadermiddlewares.useragent.UserAgentMiddleware',\n",
      " 'scrapy.downloadermiddlewares.retry.RetryMiddleware',\n",
      " 'scrapy.downloadermiddlewares.redirect.MetaRefreshMiddleware',\n",
      " 'scrapy.downloadermiddlewares.httpcompression.HttpCompressionMiddleware',\n",
      " 'scrapy.downloadermiddlewares.redirect.RedirectMiddleware',\n",
      " 'scrapy.downloadermiddlewares.cookies.CookiesMiddleware',\n",
      " 'scrapy.downloadermiddlewares.httpproxy.HttpProxyMiddleware',\n",
      " 'scrapy.downloadermiddlewares.stats.DownloaderStats']\n",
      "2021-01-17 22:47:11 [scrapy.middleware] INFO: Enabled spider middlewares:\n",
      "['scrapy.spidermiddlewares.httperror.HttpErrorMiddleware',\n",
      " 'scrapy.spidermiddlewares.offsite.OffsiteMiddleware',\n",
      " 'scrapy.spidermiddlewares.referer.RefererMiddleware',\n",
      " 'scrapy.spidermiddlewares.urllength.UrlLengthMiddleware',\n",
      " 'scrapy.spidermiddlewares.depth.DepthMiddleware']\n",
      "2021-01-17 22:47:11 [scrapy.middleware] INFO: Enabled item pipelines:\n",
      "[]\n",
      "2021-01-17 22:47:11 [scrapy.core.engine] INFO: Spider opened\n",
      "2021-01-17 22:47:11 [scrapy.extensions.logstats] INFO: Crawled 0 pages (at 0 pages/min), scraped 0 items (at 0 items/min)\n",
      "2021-01-17 22:47:11 [scrapy.extensions.telnet] INFO: Telnet console listening on 127.0.0.1:6023\n",
      "2021-01-17 22:48:00 [root] INFO: No next page. Terminating crawling process.\n",
      "2021-01-17 22:48:00 [scrapy.core.engine] INFO: Closing spider (finished)\n",
      "2021-01-17 22:48:00 [scrapy.extensions.feedexport] INFO: Stored json feed (1000 items) in: src/hotels_infos_Paris.json\n",
      "2021-01-17 22:48:00 [scrapy.statscollectors] INFO: Dumping Scrapy stats:\n",
      "{'downloader/request_bytes': 67866,\n",
      " 'downloader/request_count': 41,\n",
      " 'downloader/request_method_count/GET': 41,\n",
      " 'downloader/response_bytes': 6472133,\n",
      " 'downloader/response_count': 41,\n",
      " 'downloader/response_status_count/200': 41,\n",
      " 'elapsed_time_seconds': 49.329172,\n",
      " 'finish_reason': 'finished',\n",
      " 'finish_time': datetime.datetime(2021, 1, 17, 22, 48, 0, 827730),\n",
      " 'item_scraped_count': 1000,\n",
      " 'log_count/INFO': 12,\n",
      " 'memusage/max': 93839360,\n",
      " 'memusage/startup': 93839360,\n",
      " 'request_depth_max': 40,\n",
      " 'response_received_count': 41,\n",
      " 'scheduler/dequeued': 41,\n",
      " 'scheduler/dequeued/memory': 41,\n",
      " 'scheduler/enqueued': 41,\n",
      " 'scheduler/enqueued/memory': 41,\n",
      " 'start_time': datetime.datetime(2021, 1, 17, 22, 47, 11, 498558)}\n",
      "2021-01-17 22:48:00 [scrapy.core.engine] INFO: Spider closed (finished)\n"
     ]
    }
   ],
   "source": [
    "\n",
    "filename = \"hotels_infos_\" + ville + \".json\"\n",
    "\n",
    "if filename in os.listdir('src/'):\n",
    "        os.remove('src/' + filename)\n",
    "\n",
    "process = CrawlerProcess(settings = {\n",
    "    'USER_AGENT': 'Chrome/84.0 (compatible; MSIE 7.0; Windows NT 5.1)',\n",
    "    'LOG_LEVEL': logging.INFO,\n",
    "    \"FEEDS\": {\n",
    "        'src/' + filename: {\"format\": \"json\"},\n",
    "    }\n",
    "})\n",
    "\n",
    "process.crawl(Hotel)\n",
    "process.start()"
   ]
  },
  {
   "cell_type": "code",
   "execution_count": null,
   "metadata": {},
   "outputs": [],
   "source": []
  }
 ],
 "metadata": {
  "kernelspec": {
   "display_name": "Python 3",
   "language": "python",
   "name": "python3"
  },
  "language_info": {
   "codemirror_mode": {
    "name": "ipython",
    "version": 3
   },
   "file_extension": ".py",
   "mimetype": "text/x-python",
   "name": "python",
   "nbconvert_exporter": "python",
   "pygments_lexer": "ipython3",
   "version": "3.8.6"
  }
 },
 "nbformat": 4,
 "nbformat_minor": 4
}
